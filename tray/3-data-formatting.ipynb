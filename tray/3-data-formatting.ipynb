{
 "cells": [
  {
   "cell_type": "markdown",
   "metadata": {},
   "source": [
    "# ImmoEliza Project - Part 3: Regression \n",
    "\n",
    "# Step 3: Data Formatting"
   ]
  },
  {
   "cell_type": "code",
   "execution_count": 1,
   "metadata": {},
   "outputs": [],
   "source": [
    "# Import cleaned & encoded data\n",
    "\n",
    "import pandas as pd\n",
    "\n",
    "df_selected = pd.read_csv(\"./data/2_engineered_data.csv\")"
   ]
  },
  {
   "cell_type": "markdown",
   "metadata": {},
   "source": [
    "## Hybrid Approach of Normalization and Standardization\n",
    "\n",
    "* Latitude and longitude stay within a logical and interpretable range.\n",
    "* Price_per_sqm gets standardized to mitigate the impact of extreme values.\n",
    "\n",
    "**Warning!**\n",
    "* For KNN modules the target is not normalized/standardized"
   ]
  },
  {
   "cell_type": "markdown",
   "metadata": {},
   "source": [
    "***Normalization (Min-Max-Scaling)***\n",
    "\n",
    "Normalization rescales the values of a feature into a fixed range (usually [0, 1] or [-1, 1]). It works best for features that have no inherent scale but are important in terms of their relative positions. Use normalization for features that:\n",
    "\n",
    "* Are continuous with a specific range.\n",
    "* Are not heavily skewed (i.e., the data should be roughly evenly distributed).\n",
    "* You want to make comparable in magnitude across different features.\n",
    "\n",
    "\n",
    "***Standardization (Z-score Scaling)***\n",
    "Standardization transforms the data to have a mean of 0 and a standard deviation of 1. It’s useful when:\n",
    "\n",
    "* The feature follows a Gaussian distribution (normal distribution).\n",
    "* The feature contains outliers (as it’s less sensitive to them compared to normalization).\n",
    "* The feature has an arbitrary scale, and you want to focus on its relative variance."
   ]
  },
  {
   "cell_type": "markdown",
   "metadata": {},
   "source": [
    "**Final Decision:**\n",
    "\n",
    "* Normalize:\n",
    "\n",
    "  * Latitude\n",
    "  * Longitude\n",
    "\n",
    "* Standardize:\n",
    "  * Living Area\n",
    "  * Subtype of Property (after encoding)\n",
    "  * Building Condition (after encoding)\n",
    "  * Facade Number (if treated as numerical or ordinal)\n",
    "  * Equipped kitchen\n",
    "  * Garden\n",
    "  * Swimming Pool (same)\n",
    "  \n",
    "* Keep as is:\n",
    "  * Binary data "
   ]
  },
  {
   "cell_type": "code",
   "execution_count": 2,
   "metadata": {},
   "outputs": [
    {
     "data": {
      "text/plain": [
       "Index(['price', 'commune_encoded', 'living_area', 'building_condition',\n",
       "       'terrace', 'equipped_kitchen', 'subtype_of_property', 'garden'],\n",
       "      dtype='object')"
      ]
     },
     "execution_count": 2,
     "metadata": {},
     "output_type": "execute_result"
    }
   ],
   "source": [
    "df_selected.columns"
   ]
  },
  {
   "cell_type": "code",
   "execution_count": 3,
   "metadata": {},
   "outputs": [
    {
     "name": "stdout",
     "output_type": "stream",
     "text": [
      "<class 'pandas.core.frame.DataFrame'>\n",
      "RangeIndex: 24878 entries, 0 to 24877\n",
      "Data columns (total 8 columns):\n",
      " #   Column               Non-Null Count  Dtype  \n",
      "---  ------               --------------  -----  \n",
      " 0   price                24878 non-null  float64\n",
      " 1   commune_encoded      24878 non-null  int64  \n",
      " 2   living_area          24878 non-null  int64  \n",
      " 3   building_condition   24878 non-null  int64  \n",
      " 4   terrace              24878 non-null  int64  \n",
      " 5   equipped_kitchen     24878 non-null  int64  \n",
      " 6   subtype_of_property  24878 non-null  int64  \n",
      " 7   garden               24878 non-null  int64  \n",
      "dtypes: float64(1), int64(7)\n",
      "memory usage: 1.5 MB\n"
     ]
    }
   ],
   "source": [
    "df_selected.info()"
   ]
  },
  {
   "cell_type": "code",
   "execution_count": 4,
   "metadata": {},
   "outputs": [],
   "source": [
    "# Convert categorical-like columns to numeric first (force to NaN if not convertible)\n",
    "# Select all columns except 'price' and convert them to float\n",
    "columns_to_convert = [col for col in df_selected.columns if col != 'price']\n",
    "df_selected[columns_to_convert] = df_selected[columns_to_convert].astype(float)"
   ]
  },
  {
   "cell_type": "code",
   "execution_count": 5,
   "metadata": {},
   "outputs": [
    {
     "name": "stdout",
     "output_type": "stream",
     "text": [
      "<class 'pandas.core.frame.DataFrame'>\n",
      "RangeIndex: 24878 entries, 0 to 24877\n",
      "Data columns (total 8 columns):\n",
      " #   Column               Non-Null Count  Dtype  \n",
      "---  ------               --------------  -----  \n",
      " 0   price                24878 non-null  float64\n",
      " 1   commune_encoded      24878 non-null  float64\n",
      " 2   living_area          24878 non-null  float64\n",
      " 3   building_condition   24878 non-null  float64\n",
      " 4   terrace              24878 non-null  float64\n",
      " 5   equipped_kitchen     24878 non-null  float64\n",
      " 6   subtype_of_property  24878 non-null  float64\n",
      " 7   garden               24878 non-null  float64\n",
      "dtypes: float64(8)\n",
      "memory usage: 1.5 MB\n"
     ]
    }
   ],
   "source": [
    "df_selected.info()"
   ]
  },
  {
   "cell_type": "markdown",
   "metadata": {},
   "source": [
    "### Split training and test set before normalization to avoid leakage!"
   ]
  },
  {
   "cell_type": "code",
   "execution_count": 6,
   "metadata": {},
   "outputs": [],
   "source": [
    "from sklearn.model_selection import train_test_split\n",
    "\n",
    "# Define features and target\n",
    "X = df_selected.drop('price', axis=1)  # All columns except 'price'\n",
    "y = df_selected['price']  # Target column\n",
    "\n",
    "# Split the data (80% train, 20% test)\n",
    "X_train, X_test, y_train, y_test = train_test_split(X, y, test_size=0.2, random_state=42)"
   ]
  },
  {
   "cell_type": "code",
   "execution_count": 7,
   "metadata": {},
   "outputs": [],
   "source": [
    "import numpy as np\n",
    "from sklearn.preprocessing import MinMaxScaler, StandardScaler\n",
    "\n",
    "# Initialize scalers\n",
    "scaler_minmax = MinMaxScaler()\n",
    "scaler_standard = StandardScaler()\n",
    "\n",
    "# Normalize (latitude, longitude)\n",
    "#df_selected.loc[:, ['latitude', 'longitude']] = scaler_minmax.fit_transform(df_selected.loc[:, ['latitude', 'longitude']])\n",
    "\n",
    "# Standardize only the training set\n",
    "X_train_scaled = X_train.copy()\n",
    "X_train_scaled.loc[:, columns_to_convert] = scaler_standard.fit_transform(X_train[columns_to_convert])\n",
    "\n",
    "# Apply the same scaler to the test set\n",
    "X_test_scaled = X_test.copy()\n",
    "X_test_scaled.loc[:, columns_to_convert] = scaler_standard.transform(X_test[columns_to_convert])\n",
    "\n",
    "# Step 1: Apply log transformation to living area\n",
    "#df_selected.loc[:, 'living_area'] = np.log1p(df_selected['living_area'])  # log(1 + x) to avoid log(0)\n",
    "\n",
    "# Step 2: Apply standardization to living area\n",
    "#scaler = StandardScaler()\n",
    "#df_selected.loc[:, 'living_area'] = scaler.fit_transform(df_selected[['living_area']])\n",
    "\n",
    "# Apply log transformation to 'price'\n",
    "#df_selected.loc[:, 'price'] = np.log1p(df_selected['price'])"
   ]
  },
  {
   "cell_type": "code",
   "execution_count": 8,
   "metadata": {},
   "outputs": [],
   "source": [
    "# Export final dataframe\n",
    "X_train_scaled.to_csv('./data/3_Scaled_Features_Train.csv', index=False)\n",
    "X_test_scaled.to_csv('./data/3_Scaled_Features_Test.csv', index=False)\n",
    "y_train.to_csv('./data/3_Target_Train.csv', index=False)\n",
    "y_test.to_csv('./data/3_Target_Test.csv', index=False)"
   ]
  }
 ],
 "metadata": {
  "kernelspec": {
   "display_name": "Python 3",
   "language": "python",
   "name": "python3"
  },
  "language_info": {
   "codemirror_mode": {
    "name": "ipython",
    "version": 3
   },
   "file_extension": ".py",
   "mimetype": "text/x-python",
   "name": "python",
   "nbconvert_exporter": "python",
   "pygments_lexer": "ipython3",
   "version": "3.13.0"
  }
 },
 "nbformat": 4,
 "nbformat_minor": 2
}
