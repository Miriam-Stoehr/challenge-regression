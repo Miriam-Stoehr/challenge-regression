{
 "cells": [
  {
   "cell_type": "markdown",
   "metadata": {},
   "source": [
    "# ImmoEliza Project - Part 3: Regression \n",
    "\n",
    "# Step 1: Data Cleaning"
   ]
  },
  {
   "cell_type": "code",
   "execution_count": 1,
   "metadata": {},
   "outputs": [],
   "source": [
    "# Import libraries\n",
    "import pandas as pd"
   ]
  },
  {
   "cell_type": "code",
   "execution_count": 2,
   "metadata": {},
   "outputs": [],
   "source": [
    "# Load cleaned dataset\n",
    "cleaned_data = pd.read_csv(\"./data/cleaned-data.csv\")"
   ]
  },
  {
   "cell_type": "code",
   "execution_count": 3,
   "metadata": {},
   "outputs": [
    {
     "data": {
      "text/plain": [
       "Index(['zip_code', 'commune', 'province', 'type_of_property',\n",
       "       'subtype_of_property', 'price', 'building_condition', 'facade_number',\n",
       "       'living_area', 'equipped_kitchen', 'bedroom_nr', 'swimming_pool',\n",
       "       'furnished', 'open_fire', 'terrace', 'garden', 'plot_surface',\n",
       "       'sub_property_group_encoded'],\n",
       "      dtype='object')"
      ]
     },
     "execution_count": 3,
     "metadata": {},
     "output_type": "execute_result"
    }
   ],
   "source": [
    "cleaned_data.columns"
   ]
  },
  {
   "cell_type": "code",
   "execution_count": 4,
   "metadata": {},
   "outputs": [],
   "source": [
    "# Load raw dataset\n",
    "raw_data = pd.read_csv(\"./data/raw_data.csv\")"
   ]
  },
  {
   "cell_type": "code",
   "execution_count": 5,
   "metadata": {},
   "outputs": [
    {
     "data": {
      "text/plain": [
       "Index(['zip_code', 'commune', 'province', 'type_of_property',\n",
       "       'subtype_of_property', 'price', 'building_condition', 'facade_number',\n",
       "       'living_area', 'equipped_kitchen', 'bedroom_nr', 'swimming_pool',\n",
       "       'furnished', 'open_fire', 'terrace', 'garden', 'plot_surface'],\n",
       "      dtype='object')"
      ]
     },
     "execution_count": 5,
     "metadata": {},
     "output_type": "execute_result"
    }
   ],
   "source": [
    "raw_data.columns"
   ]
  },
  {
   "cell_type": "code",
   "execution_count": 6,
   "metadata": {},
   "outputs": [
    {
     "name": "stdout",
     "output_type": "stream",
     "text": [
      "<class 'pandas.core.frame.DataFrame'>\n",
      "RangeIndex: 26147 entries, 0 to 26146\n",
      "Data columns (total 17 columns):\n",
      " #   Column               Non-Null Count  Dtype  \n",
      "---  ------               --------------  -----  \n",
      " 0   zip_code             26147 non-null  int64  \n",
      " 1   commune              26147 non-null  object \n",
      " 2   province             26147 non-null  object \n",
      " 3   type_of_property     26147 non-null  int64  \n",
      " 4   subtype_of_property  26147 non-null  object \n",
      " 5   price                26111 non-null  float64\n",
      " 6   building_condition   19457 non-null  object \n",
      " 7   facade_number        16785 non-null  float64\n",
      " 8   living_area          26147 non-null  int64  \n",
      " 9   equipped_kitchen     26147 non-null  object \n",
      " 10  bedroom_nr           26147 non-null  int64  \n",
      " 11  swimming_pool        26147 non-null  int64  \n",
      " 12  furnished            26147 non-null  int64  \n",
      " 13  open_fire            26147 non-null  int64  \n",
      " 14  terrace              26147 non-null  int64  \n",
      " 15  garden               26147 non-null  int64  \n",
      " 16  plot_surface         26147 non-null  int64  \n",
      "dtypes: float64(2), int64(10), object(5)\n",
      "memory usage: 3.4+ MB\n"
     ]
    }
   ],
   "source": [
    "raw_data.info()"
   ]
  },
  {
   "cell_type": "markdown",
   "metadata": {},
   "source": [
    "## 1. Handle Duplicates and Missing Values"
   ]
  },
  {
   "cell_type": "markdown",
   "metadata": {},
   "source": [
    "### 1.1 Duplicates"
   ]
  },
  {
   "cell_type": "code",
   "execution_count": 7,
   "metadata": {},
   "outputs": [
    {
     "data": {
      "text/plain": [
       "np.int64(1284)"
      ]
     },
     "execution_count": 7,
     "metadata": {},
     "output_type": "execute_result"
    }
   ],
   "source": [
    "# Check for duplicates and count them\n",
    "num_duplicates = raw_data.duplicated().sum()\n",
    "num_duplicates"
   ]
  },
  {
   "cell_type": "markdown",
   "metadata": {},
   "source": [
    "Note on duplicates: During scraping, duplicates were eliminated based on property id, thus the 1284 entries identified as duplicates just have the same features which is often the case with new real estate projects, but are in fact individual properties."
   ]
  },
  {
   "cell_type": "markdown",
   "metadata": {},
   "source": [
    "### 1.2 Blank Space"
   ]
  },
  {
   "cell_type": "code",
   "execution_count": 8,
   "metadata": {},
   "outputs": [
    {
     "data": {
      "text/plain": [
       "[]"
      ]
     },
     "execution_count": 8,
     "metadata": {},
     "output_type": "execute_result"
    }
   ],
   "source": [
    "# Check for leading/trailing spaces in string columns\n",
    "\n",
    "columns_with_spaces = [col for col in raw_data.columns if raw_data[col].dtype == 'object' and raw_data[col].str.contains(r'^\\s+|\\s+$').any()]\n",
    "columns_with_spaces"
   ]
  },
  {
   "cell_type": "code",
   "execution_count": 9,
   "metadata": {},
   "outputs": [
    {
     "data": {
      "text/plain": [
       "[]"
      ]
     },
     "execution_count": 9,
     "metadata": {},
     "output_type": "execute_result"
    }
   ],
   "source": [
    "# Check for multiple spaces within a string\n",
    "columns_with_spaces = [col for col in raw_data.columns if raw_data[col].dtype == 'object' and raw_data[col].str.contains(r'  ').any()]\n",
    "columns_with_spaces"
   ]
  },
  {
   "cell_type": "markdown",
   "metadata": {},
   "source": [
    "### 1.3 Missing Values"
   ]
  },
  {
   "cell_type": "code",
   "execution_count": 10,
   "metadata": {},
   "outputs": [
    {
     "data": {
      "text/plain": [
       "zip_code                  0\n",
       "commune                   0\n",
       "province                  0\n",
       "type_of_property          0\n",
       "subtype_of_property       0\n",
       "price                    36\n",
       "building_condition     6690\n",
       "facade_number          9362\n",
       "living_area               0\n",
       "equipped_kitchen          0\n",
       "bedroom_nr                0\n",
       "swimming_pool             0\n",
       "furnished                 0\n",
       "open_fire                 0\n",
       "terrace                   0\n",
       "garden                    0\n",
       "plot_surface              0\n",
       "dtype: int64"
      ]
     },
     "execution_count": 10,
     "metadata": {},
     "output_type": "execute_result"
    }
   ],
   "source": [
    "# See summary of missing values\n",
    "raw_data.isna().sum()"
   ]
  },
  {
   "cell_type": "code",
   "execution_count": 11,
   "metadata": {},
   "outputs": [],
   "source": [
    "# Dropping entries with missing values in \"price\" (36)\n",
    "dfc = raw_data.dropna(subset=['price'], how='all')\n",
    "dfc.reset_index(drop=True, inplace=True)                              # Added \"drop=True\" to drop the old index"
   ]
  },
  {
   "cell_type": "code",
   "execution_count": 12,
   "metadata": {},
   "outputs": [],
   "source": [
    "# Handling missing values in \"facade_number\" (9362)\n",
    "\n",
    "# Compute median facade number by subtype\n",
    "facade_dict = dfc.groupby(\"subtype_of_property\")[\"facade_number\"].median().to_dict()\n",
    "\n",
    "# Impute values\n",
    "dfc.loc[:, \"facade_number\"] = dfc[\"facade_number\"].fillna(dfc[\"subtype_of_property\"].map(facade_dict))"
   ]
  },
  {
   "cell_type": "code",
   "execution_count": 13,
   "metadata": {},
   "outputs": [
    {
     "data": {
      "text/plain": [
       "(26111, 17)"
      ]
     },
     "execution_count": 13,
     "metadata": {},
     "output_type": "execute_result"
    }
   ],
   "source": [
    "# Check new length of dataset\n",
    "dfc.shape"
   ]
  },
  {
   "cell_type": "code",
   "execution_count": 14,
   "metadata": {},
   "outputs": [
    {
     "data": {
      "text/plain": [
       "array(['apartment', 'penthouse', 'flat studio', 'ground floor', 'duplex',\n",
       "       'loft', 'service flat', 'kot', 'triplex', 'apartment unit',\n",
       "       'duplex unit', 'ground floor unit', 'kot unit', 'flat studio unit',\n",
       "       'penthouse unit', 'loft unit', 'triplex unit', 'service flat unit',\n",
       "       'house', 'villa', 'apartment block', 'mansion',\n",
       "       'exceptional property', 'mixed use building', 'country cottage',\n",
       "       'town house', 'castle', 'bungalow', 'manor house', 'farmhouse',\n",
       "       'chalet', 'other property', 'house unit', 'villa unit',\n",
       "       'town house unit', 'mixed use building unit'], dtype=object)"
      ]
     },
     "execution_count": 14,
     "metadata": {},
     "output_type": "execute_result"
    }
   ],
   "source": [
    "# Check unique values in \"subtype of property\"\n",
    "unique_subtypes = dfc[\"subtype_of_property\"].unique()\n",
    "unique_subtypes"
   ]
  },
  {
   "cell_type": "code",
   "execution_count": 15,
   "metadata": {},
   "outputs": [],
   "source": [
    "\n",
    "# Create function to remove 'unit' form sub type of property, so 'apartment' and 'apartment unit' become one category and so on\n",
    "def remove_unit(subtype_of_property):\n",
    "    if 'unit' in subtype_of_property:\n",
    "        subtype_of_property = subtype_of_property.replace(' unit', '')\n",
    "    return subtype_of_property\n",
    "\n",
    "# Apply the function to remove 'unit' from the sub type col:\n",
    "dfc.loc[:, 'subtype_of_property'] = dfc['subtype_of_property'].apply(remove_unit)"
   ]
  },
  {
   "cell_type": "code",
   "execution_count": 34,
   "metadata": {},
   "outputs": [
    {
     "data": {
      "text/plain": [
       "array(['apartment', 'penthouse', 'flat studio', 'ground floor', 'duplex',\n",
       "       'loft', 'service flat', 'kot', 'triplex', 'house', 'villa',\n",
       "       'apartment block', 'mansion', 'exceptional property',\n",
       "       'mixed use building', 'country cottage', 'town house', 'castle',\n",
       "       'bungalow', 'manor house', 'farmhouse', 'chalet', 'other property'],\n",
       "      dtype=object)"
      ]
     },
     "execution_count": 34,
     "metadata": {},
     "output_type": "execute_result"
    }
   ],
   "source": [
    "# Check unique values in \"subtype of property\"\n",
    "unique_subtypes = dfc[\"subtype_of_property\"].unique()\n",
    "unique_subtypes"
   ]
  },
  {
   "cell_type": "code",
   "execution_count": 16,
   "metadata": {},
   "outputs": [
    {
     "data": {
      "text/plain": [
       "array(['good', 'as new', 'just renovated', 'to be done up', 'to renovate',\n",
       "       nan, 'to restore'], dtype=object)"
      ]
     },
     "execution_count": 16,
     "metadata": {},
     "output_type": "execute_result"
    }
   ],
   "source": [
    "# Check unique values in \"building_condition\"\n",
    "unique_conditions = dfc[\"building_condition\"].unique()\n",
    "unique_conditions"
   ]
  },
  {
   "cell_type": "code",
   "execution_count": 17,
   "metadata": {},
   "outputs": [],
   "source": [
    "# Replace NaN in \"building_condition\" with 'Unknown', since it cannot be guessed based on other criteria\n",
    "dfc.loc[:, \"building_condition\"] = dfc[\"building_condition\"].fillna(\"Unknown\")"
   ]
  },
  {
   "cell_type": "code",
   "execution_count": 18,
   "metadata": {},
   "outputs": [
    {
     "data": {
      "text/plain": [
       "zip_code               0\n",
       "commune                0\n",
       "province               0\n",
       "type_of_property       0\n",
       "subtype_of_property    0\n",
       "price                  0\n",
       "building_condition     0\n",
       "facade_number          0\n",
       "living_area            0\n",
       "equipped_kitchen       0\n",
       "bedroom_nr             0\n",
       "swimming_pool          0\n",
       "furnished              0\n",
       "open_fire              0\n",
       "terrace                0\n",
       "garden                 0\n",
       "plot_surface           0\n",
       "dtype: int64"
      ]
     },
     "execution_count": 18,
     "metadata": {},
     "output_type": "execute_result"
    }
   ],
   "source": [
    "# See summary of missing values\n",
    "dfc.isna().sum()"
   ]
  },
  {
   "cell_type": "markdown",
   "metadata": {},
   "source": [
    "## 2. Handle Categorical/ Text Data"
   ]
  },
  {
   "cell_type": "markdown",
   "metadata": {},
   "source": [
    "### 2.1 Inspect Categorical Data"
   ]
  },
  {
   "cell_type": "code",
   "execution_count": 19,
   "metadata": {},
   "outputs": [
    {
     "name": "stdout",
     "output_type": "stream",
     "text": [
      "Quantitative variables: 12\n",
      "Qualitative variables: 5\n",
      "Qualitative variables: ['commune', 'province', 'subtype_of_property', 'building_condition', 'equipped_kitchen']\n"
     ]
    }
   ],
   "source": [
    "# Check columns with categorical / text data\n",
    "\n",
    "# Count quantitative (numerical) variables\n",
    "quantitative_vars = dfc.select_dtypes(include=['int64', 'float64']).columns\n",
    "num_quantitative = len(quantitative_vars)\n",
    "\n",
    "# Count qualitative (categorical) variables\n",
    "qualitative_vars = dfc.select_dtypes(include=['object', 'category']).columns.to_list()\n",
    "num_qualitative = len(qualitative_vars)\n",
    "\n",
    "print(f\"Quantitative variables: {num_quantitative}\")\n",
    "print(f\"Qualitative variables: {num_qualitative}\")\n",
    "\n",
    "print(f\"Qualitative variables: {qualitative_vars}\")"
   ]
  },
  {
   "cell_type": "code",
   "execution_count": null,
   "metadata": {},
   "outputs": [
    {
     "name": "stdout",
     "output_type": "stream",
     "text": [
      "Number of unique communes: 864\n"
     ]
    },
    {
     "data": {
      "text/plain": [
       "array(['Berchem', 'Deurne', 'Hoboken', 'Uccle', 'Antwerpen', 'Ixelles',\n",
       "       'Wommelgem', 'Boom', 'Kortrijk', 'Anderlecht', 'Zeveren',\n",
       "       'Zeveneken', 'Willebroek', 'Waregem', 'Wilrijk', 'Sleidinge',\n",
       "       'Gent', 'Stabroek', 'Molenbeek-Saint-Jean', 'Koekelberg',\n",
       "       'Berchem-Sainte-Agathe', 'Aalst', 'Bruxelles', 'Sint-Niklaas',\n",
       "       'Westende', 'Zandvoorde', 'Houthalen', 'Middelkerke', 'Ledeberg',\n",
       "       'Walem', 'Schaerbeek', 'Woluwe-Saint-Lambert', 'Zottegem',\n",
       "       'Westkapelle', 'Rocourt', 'Wenduine', 'Rumbeke', 'Uitkerke',\n",
       "       'Etterbeek', 'Waarloos', 'Borgerhout', 'Leuven', 'Auderghem',\n",
       "       'Merksem', 'Ganshoren', 'Avelgem', 'Harelbeke', 'Vissenaken',\n",
       "       'Sint-Denijs-Westrem', 'Sint-Lambrechts-Herk', 'Uitbergen',\n",
       "       'Laeken', 'Sint-Pieters-Leeuw', 'Orp-le-Grand', 'Zétrud-Lumay',\n",
       "       'Waardamme', 'Sint-Joris', 'Woumen', 'Rupelmonde', 'Soignies',\n",
       "       'Heldergem', 'Saint-Josse-ten-Noode', 'Sint-Gillis-Dendermonde',\n",
       "       'Ramsdonk', 'Weert', 'Welden', 'Evere', 'Mortsel', 'Harchies',\n",
       "       'Petit-Enghien', 'Eeklo', 'Forest', 'Vichte', 'Schelderode',\n",
       "       'Nivelles', 'Woluwe-Saint-Pierre', 'Saint-Gilles', 'Vrasene',\n",
       "       'Woubrechtegem', 'Ruisbroek', 'Rijmenam', 'Borsbeek', 'Wetteren',\n",
       "       'Toernich', 'Herenthout', 'Sint-Michiels', 'Neder-Over-Heembeek',\n",
       "       'Vilvoorde', 'Alken', 'Heusden', 'Tilleur', 'Wondelgem', 'Lembeke',\n",
       "       'Sart-lez-Spa', 'Sint-Amandsberg', 'Wavre', 'Wandre', 'Assenede',\n",
       "       'Wanzele', 'Tielrode', 'Tihange', 'Ougrée', 'Vurste', 'Halle',\n",
       "       'Wardin', 'Wansin', 'Oostrozebeke', 'Drogenbos', 'Moerzeke',\n",
       "       'Aartselaar', 'Zegelsem', 'Wulpen', 'Orgeo', 'Zaventem',\n",
       "       'Zomergem', 'Brasschaat', 'Adegem', 'Bredene', 'Leest',\n",
       "       'Rotselaar', 'Wezemaal', 'Ramskapelle', 'Zeebrugge', 'Tournai',\n",
       "       'Edegem', 'Wavreille', 'Zelzate', 'Lier', 'Malmedy', 'Wanze',\n",
       "       'Sainte-Marie-Chevigny', 'Zedelgem', 'Watermael-Boitsfort',\n",
       "       'Liedekerke', 'Vorst', 'Wierde', 'Waha', 'Seraing', 'Poeke',\n",
       "       'Wemmel', 'Wonck', 'Sint-Stevens-Woluwe', 'Genval', 'Jette',\n",
       "       'Waterloo', 'Zarren', 'Vlekkem', 'Wanfercée-Baulet', 'Lanquesaint',\n",
       "       'Nazareth', 'Mollem', 'Rendeux', \"Braine-l'Alleud\", 'Wakken',\n",
       "       'Spa', 'Heverlee', 'Virton', 'Putte', 'Turnhout', 'Kapellen',\n",
       "       'Court-Saint-Etienne', 'Latour', 'Korbeek-Dijle', 'Schoten',\n",
       "       'Deerlijk', 'Mariakerke', 'Tielt', 'Zwijnaarde', 'De Panne',\n",
       "       'Lommel', 'Gilly', 'Genk', 'Hooglede', 'Onze-Lieve-Vrouw-Waver',\n",
       "       'Warnant', \"Villers-l'Evêque\", 'Zandvliet', 'Kruishoutem', 'Ronse',\n",
       "       'Wéris', 'Ophoven', 'Merkem', 'Schriek', 'Strombeek-Bever',\n",
       "       'Mouscron', 'Keerbergen', 'Namur', 'Mons-lez-Liège', 'Ramsel',\n",
       "       'Groot-Bijgaarden', 'Bierges', 'Steenokkerzeel', 'Hofstade',\n",
       "       'Wechelderzande', 'Melle', 'Rivière', 'Duffel', 'Winksele',\n",
       "       'Velroux', 'Saint-Léger', 'Lubbeek', 'Villers-Poterie', 'Wijnegem',\n",
       "       'Sint-Eloois-Vijve', 'Vezin', 'Chênée', 'Zellik', 'Muizen',\n",
       "       'Lichtervelde', 'Heist-op-den-Berg', 'Zolder', 'Koolkerke',\n",
       "       'Zwijndrecht', 'Vossem', 'Nederokkerzeel', 'Furfooz',\n",
       "       'Westrozebeke', 'Plancenoit', 'Wielsbeke', 'Hornu', 'Witry',\n",
       "       'Ottignies', 'Russeignies', 'Denderleeuw', 'Kachtem', 'Wolvertem',\n",
       "       'Sint-Amands', 'Sterrebeek', 'Zoerle-Parwijs', 'Wieze',\n",
       "       'Desselgem', 'Opvelp', 'Saive', 'Zonnebeke', 'Marenne',\n",
       "       'Sauvenière', 'Louvain-la-Neuve', 'Sougné-Remouchamps',\n",
       "       'Oostakker', 'Belsele', 'Zingem', 'Zulzeke', 'Hemiksem', 'Ranst',\n",
       "       'Overijse', 'Werchter', 'Ransart', 'Vosselare', 'Noorderwijk',\n",
       "       'Ingelmunster', 'Sint-Ulriks-Kapelle', 'Schepdaal', 'Haren',\n",
       "       'Mont-Saint-Guibert', 'Opglabbeek', 'Waasmunster', 'Sint-Kruis',\n",
       "       'Grivegnée', 'Nieuwerkerken', 'Herstal', 'Wespelaar', 'Gestel',\n",
       "       'Rekkem', 'Rixensart', 'Sint-Lenaarts', 'Ville-sur-Haine',\n",
       "       'Heestert', 'Velaines', 'Waremme', 'Chaudfontaine', 'Saint-Gérard',\n",
       "       'Zwevegem', 'Embourg', 'Lokeren', 'Terhagen', 'Hermalle-sous-Huy',\n",
       "       'Paliseul', 'Seneffe', 'Marche-lez-Écaussinnes', 'Tubize',\n",
       "       'Kraainem', 'Saint-Ghislain', 'Lint', 'Oeudeghien', 'Opwijk',\n",
       "       'Werm', 'Sint-Genesius-Rode', 'Châtelineau', 'Torhout', 'Beersel',\n",
       "       'Balen', 'Pulle', 'Voorde', 'Poelkapelle', 'Wangenies', 'Kuurne',\n",
       "       'Stekene', 'Fléron', 'Schilde', 'Jemeppe-sur-Meuse', 'Charleroi',\n",
       "       'Velaine-sur-Sambre', 'Lembeek', 'Zoutenaaie', 'Sint-Jan',\n",
       "       'Aalbeke', 'Merchtem', 'Vierset-Barse', 'Aubange', 'Ardooie',\n",
       "       'Sint-Martens-Latem', 'La Hulpe', 'Verviers', 'Booischot',\n",
       "       'Wauthier-Braine', 'Welle', 'Wevelgem', 'Vottem', 'Gelrode',\n",
       "       'Tremelo', 'Geel', 'Genappe', 'Zarlardinge', 'Xhendremael',\n",
       "       'Boussu', 'Arendonk', 'Gosselies', 'Oupeye', 'Spiere', 'Boekhoute',\n",
       "       'Beringen', 'Saint-Georges-sur-Meuse', 'Zulte', 'Thimister',\n",
       "       'Villers-la-Ville', 'Sint-Eloois-Winkel', 'Reningelst', 'Waimes',\n",
       "       'Ressegem', 'Haasrode', 'Zande', 'Sijsele', \"Fontaine-l'Évêque\",\n",
       "       'Haccourt', 'Zele', 'Trivières', 'Wolkrange', 'Meulebeke',\n",
       "       'Wachtebeke', 'Xhoris', 'Vaux-Chavanne', 'Quiévrain', 'Linkebeek',\n",
       "       'Sovet', 'Bray', 'Ekeren', 'Yvoir', 'Mol', 'Zwevezele',\n",
       "       'Vorselaar', 'Heusy', 'Zevekote', 'Warnant-Dreye', 'Kessel Lo',\n",
       "       'Vaux-sous-Chèvremont', 'Hachy', 'Signeulx', 'Maldegem', 'Athus',\n",
       "       'Soye', 'Strijtem', 'Itterbeek', 'Machelen', 'Tournay',\n",
       "       'Diepenbeek', 'Villers-sur-Semois', 'Baudour', 'Ans', 'Teralfene',\n",
       "       'Rachecourt', 'Tontelange', 'Wezembeek-Oppem', 'Willerzie',\n",
       "       'Wellen', 'Tilff', 'Niel', 'Ressaix', 'Opdorp', 'Sint-Pauwels',\n",
       "       'Nassogne', 'Laarne', 'Weerde', 'Nadrin', 'Marcinelle',\n",
       "       'Zandhoven', 'Tertre', 'Sint-Martens-Lennik', 'Pittem', 'Moorsel',\n",
       "       'Zepperen', 'Opheylissem', 'Steenkerque', 'Longueville',\n",
       "       'Huizingen', 'Monceau-sur-Sambre', 'Koersel', 'Veulen', 'Tignée',\n",
       "       'Waltwilder', 'Alsemberg', 'Zandbergen', 'Betekom', 'Hechtel',\n",
       "       'Oetingen', 'Queue-du-Bois', 'Ursel', 'Vosselaar', 'Pironchamps',\n",
       "       'Lessines', 'Melen', 'Aartrijke', 'Nijlen', 'Olen', 'Vollezele',\n",
       "       'Meise', 'Drongen', 'Piéton', 'Iddergem', 'Westkerke',\n",
       "       'Minderhout', 'Ombret', 'Scheldewindeke', 'Mont-sur-Marchienne',\n",
       "       'Zoersel', 'Wortegem', 'Steenhuffel', 'Vlezenbeek',\n",
       "       'Houtain-Saint-Siméon', 'Martelange', 'Wilsele', 'Céroux-Mousty',\n",
       "       'Manage', 'Leopoldsburg', 'Paal', 'Rollegem', 'Vresse-sur-Semois',\n",
       "       'Grimbergen', 'Scherpenheuvel', 'Loyers', 'Oud-Turnhout',\n",
       "       'Vitrival', 'Grobbendonk', 'Waarschoot', 'Roselies', 'Wichelen',\n",
       "       'Moorslede', 'Mons', 'Vyle-et-Tharoul', 'Plainevaux',\n",
       "       'Sinaai-Waas', 'Diegem', 'Rosières', 'Tourinnes-la-Grosse',\n",
       "       'Hoeilaart', 'Jumet', 'Sars-la-Bruyère', 'Thy-le-Château',\n",
       "       'Zonnegem', 'Yernée-Fraineux', 'Wegnez', 'Westmalle', 'Bilstain',\n",
       "       'Nalinnes', 'Virginal-Samme', 'Eupen', 'Westmeerbeek', 'Angleur',\n",
       "       'Thorembais-Saint-Trond', 'Zutendaal', 'Courcelles', 'Lendelede',\n",
       "       'Hove', 'Morlanwelz-Mariemont', 'Tielen', 'Tessenderlo',\n",
       "       'Hoogstraten', 'Visé', 'Meldert', 'Boechout', 'Heule', 'Bouge',\n",
       "       'Nessonvaux', 'Saint-Remy', 'Schelle', 'Wasmuel', 'Ichtegem',\n",
       "       'Anderlues', 'Cambron-Casteau', 'Thulin', 'Zerkegem', 'Wasmes',\n",
       "       'Saint-Sauveur', 'Marche-les-Dames', 'Tenneville', 'Kortessem',\n",
       "       'Wervik', 'Saint-Symphorien', 'Jamoigne', 'Rulles', 'Zelem',\n",
       "       'Widooie', 'Vaux-sur-Sûre', 'Villance', 'Sint-Maria-Lierde',\n",
       "       'Tillier', 'Voort', 'Vorsen', 'Moerbeke-Waas',\n",
       "       'Sint-Katelijne-Waver', 'Comines-Warneton', 'Jemappes', 'Havay',\n",
       "       'Comblain-au-Pont', 'Lillois-Witterzée', 'Sint-Laureins', 'Wange',\n",
       "       'Boortmeerbeek', 'Neuville-en-Condroz', 'Wiekevorst',\n",
       "       'Rotheux-Rimière', 'Saint-Servais', 'Belgrade', 'Ravels',\n",
       "       'Verrebroek', 'Villers-Saint-Amand', 'Sprimont', 'Romsée',\n",
       "       'Zevergem', 'Cheratte', 'Tintigny', 'Corbion', 'Oosteeklo',\n",
       "       'Chapelle-à-Wattines', 'Flobecq', 'Sint-Kruis-Winkel', 'Ternat',\n",
       "       'Rillaar', 'Solre-sur-Sambre', 'Wijgmaal', 'Borsbeke', 'Wodecq',\n",
       "       'Aspelare', 'Kaster', 'Zemst', 'Schulen', 'Waarmaarde', 'Warzée',\n",
       "       'Nieuwrode', 'Nethen', 'Nieuwkerke', 'Maarke-Kerkem', 'Remicourt',\n",
       "       'Kalmthout', 'Quevaucamps', 'Stoumont', 'Saint-Géry', 'Attenrode',\n",
       "       'Julémont', 'Sint-Maria-Latem', 'Raeren', 'Vivegnis', 'Viesville',\n",
       "       'Saint-Aubin', 'Walhain-Saint-Paul', 'Winenne', 'Vodecée',\n",
       "       'Rochehaut', 'Theux', 'Habay-la-Vieille', 'Thoricourt',\n",
       "       'Lovendegem', 'Presgaux', 'Bekkevoort', 'Soy', 'Battice',\n",
       "       'Mont-Sainte-Aldegonde', 'Dworp', 'Reppel', 'Sint-Pieters-Rode',\n",
       "       'Vance', 'Zichem', 'Couillet', 'Roesbrugge-Haringe', 'Bever',\n",
       "       'Vlimmeren', 'Hulste', 'Otrange', 'Lierneux', 'Slins',\n",
       "       'Ville-Pommeroeul', 'Mazy', 'Ciply', 'Willebringen', 'Torgny',\n",
       "       'Bande', 'Deurle', 'Waillet', 'Wellin', 'Sars-la-Buissière',\n",
       "       'Vedrin', 'Ruiselede', 'Oostham', 'Retie', 'Montigny-le-Tilleul',\n",
       "       'Hastière-par-Delà', 'Essen', 'Rebecq-Rognon', 'Couthuin',\n",
       "       'Roux-Miroir', 'Moresnet', 'Vesqueville', 'Autelbas', 'Tongrinne',\n",
       "       'Strépy-Bracquegnies', 'Buizingen', 'Heffen', 'Roisin',\n",
       "       'Marchienne-au-Pont', 'Terwagne', 'Cuesmes', 'Lens-Saint-Servais',\n",
       "       'Villers-Sainte-Gertrude', 'Meerbeke', 'Neigem',\n",
       "       'Sint-Agatha-Rode', 'Habergy', 'Hever', 'Vodelée', 'Herne',\n",
       "       'Thy-le-Bauduin', 'Ramillies', 'Fexhe-Slins', 'Petit-Fays',\n",
       "       'Limelette', 'Saint-Denis', 'Woesten', 'Wadelincourt', 'Wihéries',\n",
       "       'Viemme', 'Hodeige', 'Hour', 'Lot', 'Sint-Martens-Voeren',\n",
       "       'Wambeek', 'Meerbeek', 'Grazen', 'Retinne', 'Beaufays', 'Rebaix',\n",
       "       'Bon-Secours', 'Wijtschate', \"Waret-l'Évêque\", 'Wihogne',\n",
       "       'Warcoing', 'Wanne', 'Wattripont', 'Blaimont', 'Liers', 'Hombourg',\n",
       "       'Yves-Gomezée', 'Stokrooie', 'Vierves-sur-Viroin', 'Haillot',\n",
       "       'Poulseur', 'Vielsalm', 'Saint-Mard', 'Waulsort', 'Natoye',\n",
       "       'Glabbeek', 'Dison', 'Mortroux', 'Warisoulx', 'Bellem', 'Vivy',\n",
       "       'Reninge', 'Limerlé', 'Sirault', 'Langdorp', 'Hamoir',\n",
       "       'Henri-Chapelle', 'Hamont', 'Ville-en-Hesbaye', 'Heer', 'Villerot',\n",
       "       'Glabais', 'Sint-Joris-Weert', 'Humbeek', 'Limont', 'Oteppe',\n",
       "       'Wuustwezel', 'Straimont', 'Hermalle-sous-Argenteau', 'Dampremy',\n",
       "       'Montignies-sur-Sambre', 'Sainte-Cécile', 'Stembert', 'Baal',\n",
       "       'Ohey', 'Oud-Heverlee', 'Quévy-le-Petit', 'Kortenberg', 'Pondrôme',\n",
       "       'Voroux-lez-Liers', 'Trembleur', 'Opoeteren',\n",
       "       'La Roche-en-Ardenne', 'Meer', 'Maulde', 'Olne', 'Sart-Bernard',\n",
       "       'Veldwezelt', 'Otegem', 'Basse-Bodeux', 'Moen', 'Argenteau',\n",
       "       'Bornival', 'Verlaine', 'Kaprijke', 'Ghoy', 'Sint-Rijkers',\n",
       "       'Loncin', 'Sint-Maria-Horebeke', 'Hognoul', 'Wayaux', 'Middelburg',\n",
       "       'Weillen', 'Ollignies', 'Lomprez', 'Petit-R\\x9culx-lez-Nivelles',\n",
       "       'Veerle', 'Blanden', 'Montignies-lez-Lens', 'Grand-Leez',\n",
       "       'Sint-Huibrechts-Lille', 'Mourcourt', 'Sint-Margriete-Houtem',\n",
       "       'Wibrin', 'Dessel', 'Watervliet', 'Masnuy-Saint-Pierre', 'Spy',\n",
       "       'Magnée', 'Schorisse', 'Haut-Ittre', 'Tillet', 'Havré',\n",
       "       'Petit-Thier', 'Sint-Katherina-Lombeek', 'Vellereille-les-Brayeux',\n",
       "       'Anthisnes', 'Tavier', 'Verlée', 'Villers-la-Loue',\n",
       "       'Villers-Deux-Eglises', 'Outrijve', 'Lisogne', 'Wagnelée',\n",
       "       'Porcheresse', 'Sorinnes', 'Manderfeld', 'Juseret', 'Sivry',\n",
       "       'Templeuve', 'Zonhoven', 'Lodelinsart', 'Luttre',\n",
       "       'Tongre-Saint-Martin', 'Roux', 'Deux-Acren', 'Beveren', 'Stavelot',\n",
       "       'Herseaux', 'Slijpe', 'Welkenraedt', 'Péruwelz', 'Trazegnies',\n",
       "       'Gouy-lez-Piéton', 'Rijkevorsel', 'Mellet', 'Opont', 'Rièzes',\n",
       "       'Ophain-Bois-Seigneur-Isaac', 'Baulers', 'Pollare', 'Thuin',\n",
       "       'Weelde', 'Hérinnes-lez-Pecq', 'Thys', 'Wanlin', 'Tinlot',\n",
       "       'Grand-Halleux', 'Onhaye', 'Tellin', 'Waudrez', 'Momignies',\n",
       "       'Sorée', 'Sint-Martens-Lierde', 'Poppel', 'Vremde',\n",
       "       'Zichen-Zussen-Bolder', 'Wezeren', 'Lacuisine', 'Agimont',\n",
       "       'Les Bulles', 'Pepingen', 'Soiron', 'Meerle', 'Gages', 'Wommersom',\n",
       "       'Brye', 'Houtain-le-Val', 'Erps-Kwerps', 'Racour', 'Borchtlombeek',\n",
       "       'Kerksken', 'Macon', 'Watou', 'Loupoigne', 'Cherain', 'Zuienkerke',\n",
       "       'Velm', 'Wijer', 'Beert', 'Tintange', 'Rummen', 'Bouwel',\n",
       "       'Meerhout', 'Wiers', 'Vergnies', 'Binkom', 'Vlissegem', 'Nimy',\n",
       "       'Chanly', 'Dottignies', 'Péronnes-lez-Antoing', 'Stambruges',\n",
       "       'Zillebeke', 'Taintignies', 'Tongerlo', 'Leffinge',\n",
       "       'Vieux-Genappe', \"Meslin-l'Évêque\", 'Zoutleeuw', 'Gozée',\n",
       "       'Halleux', 'Rumillies', 'Vinderhoute', 'Leuze-en-Hainaut',\n",
       "       'Saint-Denis-Bovesse', 'Beigem', 'Wannebecq', 'Wasseiges', 'Vezon',\n",
       "       'Rosoux-Crenwick'], dtype=object)"
      ]
     },
     "execution_count": 22,
     "metadata": {},
     "output_type": "execute_result"
    }
   ],
   "source": [
    "# Check unique values\n",
    "\n",
    "unique_communes = dfc[\"commune\"].unique()\n",
    "print(\"Number of unique communes:\", len(unique_communes))"
   ]
  },
  {
   "cell_type": "code",
   "execution_count": 23,
   "metadata": {},
   "outputs": [
    {
     "data": {
      "text/plain": [
       "array(['Antwerpen', 'Bruxelles', 'West-Vlaanderen', 'Oost-Vlaanderen',\n",
       "       'Limburg', 'Liège', 'Vlaams Brabant', 'Brabant Wallon', 'Hainaut',\n",
       "       'Luxembourg', 'Namur'], dtype=object)"
      ]
     },
     "execution_count": 23,
     "metadata": {},
     "output_type": "execute_result"
    }
   ],
   "source": [
    "unique_provinces = dfc[\"province\"].unique()\n",
    "unique_provinces"
   ]
  },
  {
   "cell_type": "code",
   "execution_count": 25,
   "metadata": {},
   "outputs": [
    {
     "name": "stdout",
     "output_type": "stream",
     "text": [
      "Number of unique zip codes: 873\n"
     ]
    }
   ],
   "source": [
    "unique_zipcodes = dfc[\"zip_code\"].unique()\n",
    "print(\"Number of unique zip codes:\", len(unique_zipcodes))"
   ]
  },
  {
   "cell_type": "code",
   "execution_count": 26,
   "metadata": {},
   "outputs": [
    {
     "data": {
      "text/plain": [
       "array(['apartment', 'penthouse', 'flat studio', 'ground floor', 'duplex',\n",
       "       'loft', 'service flat', 'kot', 'triplex', 'house', 'villa',\n",
       "       'apartment block', 'mansion', 'exceptional property',\n",
       "       'mixed use building', 'country cottage', 'town house', 'castle',\n",
       "       'bungalow', 'manor house', 'farmhouse', 'chalet', 'other property'],\n",
       "      dtype=object)"
      ]
     },
     "execution_count": 26,
     "metadata": {},
     "output_type": "execute_result"
    }
   ],
   "source": [
    "unique_subtypes = dfc[\"subtype_of_property\"].unique()\n",
    "unique_subtypes"
   ]
  },
  {
   "cell_type": "code",
   "execution_count": 27,
   "metadata": {},
   "outputs": [
    {
     "data": {
      "text/plain": [
       "array(['good', 'as new', 'just renovated', 'to be done up', 'to renovate',\n",
       "       nan, 'to restore'], dtype=object)"
      ]
     },
     "execution_count": 27,
     "metadata": {},
     "output_type": "execute_result"
    }
   ],
   "source": [
    "unique_conditions"
   ]
  },
  {
   "cell_type": "code",
   "execution_count": 28,
   "metadata": {},
   "outputs": [
    {
     "data": {
      "text/plain": [
       "array(['installed', '0', 'hyper equipped', 'semi equipped',\n",
       "       'not installed', 'usa semi equipped', 'usa hyper equipped',\n",
       "       'usa installed', 'usa uninstalled'], dtype=object)"
      ]
     },
     "execution_count": 28,
     "metadata": {},
     "output_type": "execute_result"
    }
   ],
   "source": [
    "unique_kitchens = dfc[\"equipped_kitchen\"].unique()\n",
    "unique_kitchens"
   ]
  },
  {
   "cell_type": "markdown",
   "metadata": {},
   "source": [
    "### 2.2 Encode Categorical Data"
   ]
  },
  {
   "cell_type": "markdown",
   "metadata": {},
   "source": [
    "#### 2.2.1 Kitchen Equipment"
   ]
  },
  {
   "cell_type": "markdown",
   "metadata": {},
   "source": [
    "## 3. Select Features \n",
    "(Remove features that have a too strong correlation between them)"
   ]
  }
 ],
 "metadata": {
  "kernelspec": {
   "display_name": "Python 3",
   "language": "python",
   "name": "python3"
  },
  "language_info": {
   "codemirror_mode": {
    "name": "ipython",
    "version": 3
   },
   "file_extension": ".py",
   "mimetype": "text/x-python",
   "name": "python",
   "nbconvert_exporter": "python",
   "pygments_lexer": "ipython3",
   "version": "3.13.0"
  }
 },
 "nbformat": 4,
 "nbformat_minor": 2
}
